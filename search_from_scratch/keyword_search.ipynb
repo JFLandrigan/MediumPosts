{
 "cells": [
  {
   "cell_type": "markdown",
   "id": "4526bafa-3a56-4080-900a-40c7a0cc1cf0",
   "metadata": {
    "id": "4526bafa-3a56-4080-900a-40c7a0cc1cf0"
   },
   "source": [
    "# Keyword Search"
   ]
  },
  {
   "cell_type": "code",
   "execution_count": 34,
   "id": "a0a76aef-5874-44d6-8bc4-3c343a3e49c9",
   "metadata": {
    "id": "a0a76aef-5874-44d6-8bc4-3c343a3e49c9",
    "tags": []
   },
   "outputs": [],
   "source": [
    "import time\n",
    "from typing import List\n",
    "import uuid\n",
    "\n",
    "import pandas as pd\n",
    "from sklearn.feature_extraction.text import CountVectorizer, TfidfVectorizer\n",
    "from sklearn.metrics.pairwise import cosine_similarity"
   ]
  },
  {
   "cell_type": "code",
   "execution_count": 18,
   "id": "6d09ac06-7ea5-4f31-8185-6474cfbca502",
   "metadata": {
    "id": "6d09ac06-7ea5-4f31-8185-6474cfbca502",
    "outputId": "262b8a58-210e-4fc0-eeda-f3aed42e8779"
   },
   "outputs": [
    {
     "name": "stdout",
     "output_type": "stream",
     "text": [
      "<class 'pandas.core.frame.DataFrame'>\n",
      "RangeIndex: 209527 entries, 0 to 209526\n",
      "Data columns (total 9 columns):\n",
      " #   Column             Non-Null Count   Dtype         \n",
      "---  ------             --------------   -----         \n",
      " 0   uuid               209527 non-null  object        \n",
      " 1   link               209527 non-null  object        \n",
      " 2   headline           209527 non-null  object        \n",
      " 3   category           209527 non-null  object        \n",
      " 4   short_description  209527 non-null  object        \n",
      " 5   authors            209527 non-null  object        \n",
      " 6   date               209527 non-null  datetime64[ns]\n",
      " 7   clean_headline     209527 non-null  object        \n",
      " 8   combined_text      209527 non-null  object        \n",
      "dtypes: datetime64[ns](1), object(8)\n",
      "memory usage: 14.4+ MB\n"
     ]
    }
   ],
   "source": [
    "# Load in the data and add uuids\n",
    "data = pd.read_json(\"data/preprocessed_data.jsonl\", orient='records', lines=True)\n",
    "\n",
    "data.info()\n"
   ]
  },
  {
   "cell_type": "markdown",
   "id": "9aec434b-1006-4bb8-b8a6-cb9afb38b437",
   "metadata": {
    "id": "9aec434b-1006-4bb8-b8a6-cb9afb38b437"
   },
   "source": [
    "In order to help speed up and simplify some of the code rather then relying on pandas for looking up articles I will use dictionaries instead."
   ]
  },
  {
   "cell_type": "code",
   "execution_count": 19,
   "id": "0cefba9c-a280-4170-a470-0e7da0931db7",
   "metadata": {
    "id": "0cefba9c-a280-4170-a470-0e7da0931db7"
   },
   "outputs": [],
   "source": [
    "# Initialize lookups including uuid -> title and row index -> uuid\n",
    "UUID_2_TITLE = dict(zip(data['uuid'], data['headline']))\n",
    "IND_2_UUID = dict(zip(list(data.index), data['uuid']))\n",
    "\n",
    "# Create generic docs list to be used for setting up searchs.\n",
    "DOCS = list(data['combined_text'])\n"
   ]
  },
  {
   "cell_type": "markdown",
   "id": "e3350ab1-059a-4aef-aabc-a18bb577fc78",
   "metadata": {
    "id": "e3350ab1-059a-4aef-aabc-a18bb577fc78"
   },
   "source": [
    "## Naive Approach\n",
    "\n",
    "In the naive approach we will simply check each document to see if it contains the query term/s. The main reason for calling this the \"naive\" approach is because it will utilize a for loop to check each document for the term/s. In a small sample such as this using a simple for loop works relatively quickly while very clearly showing how keyword matching works however with larger datasets with not only more records but also longer texts this approach is simply unrealistic due to its limitation in regards to processing time."
   ]
  },
  {
   "cell_type": "code",
   "execution_count": 20,
   "id": "fef82fcb-e53d-45b2-8269-bffc063fa2eb",
   "metadata": {
    "id": "fef82fcb-e53d-45b2-8269-bffc063fa2eb"
   },
   "outputs": [],
   "source": [
    "class KeywordSearcher:\n",
    "    def __init__(self, docs:List[str]):\n",
    "        self.docs : List[str] = docs\n",
    "\n",
    "    def search(self, query:str)->List[str]:\n",
    "        matches = [d for d in self.docs if query.lower() in d]\n",
    "        return matches"
   ]
  },
  {
   "cell_type": "code",
   "execution_count": 21,
   "id": "16b9ab10-c86d-4354-b8f1-87c2d7543ac9",
   "metadata": {
    "id": "16b9ab10-c86d-4354-b8f1-87c2d7543ac9",
    "outputId": "cfe87f3a-2fa4-42e9-c9f2-16af89fe6306"
   },
   "outputs": [
    {
     "name": "stdout",
     "output_type": "stream",
     "text": [
      "396\n",
      "CPU times: user 86.4 ms, sys: 207 µs, total: 86.6 ms\n",
      "Wall time: 96 ms\n"
     ]
    }
   ],
   "source": [
    "%%time\n",
    "\n",
    "searcher = KeywordSearcher(docs=DOCS)\n",
    "results = searcher.search(query=\"airlines\")\n",
    "print(len(results))\n"
   ]
  },
  {
   "cell_type": "code",
   "execution_count": 22,
   "id": "862f6587-1771-442f-83e9-86674dd7170e",
   "metadata": {
    "id": "862f6587-1771-442f-83e9-86674dd7170e",
    "outputId": "ef2efc8b-e652-4e06-dfb8-4800dcdd6e28"
   },
   "outputs": [
    {
     "name": "stdout",
     "output_type": "stream",
     "text": [
      "american airlines flyer charged banned for life after punching flight attendant on video he was subdued by passengers and crew when he fled to the back of the aircraft after the confrontation according to the us attorney's office in los angeles\n",
      "\n",
      "alaska airlines cancels dozens of flights as pilots picket more than 100 alaska airlines flights were canceled by the airline including 66 in seattle 20 in portland oregon 10 in los angeles and seven in san francisco\n",
      "\n",
      "russia's flagship airline aeroflot halts all international flights except to belarus russia's aviation agency recommended all russian airlines with foreignleased planes halt both passenger and cargo flights abroad\n",
      "\n"
     ]
    }
   ],
   "source": [
    "for r in results[:3]:\n",
    "    print(r + \"\\n\")"
   ]
  },
  {
   "cell_type": "markdown",
   "id": "4d76d4b1-d2dc-4713-9853-7c4da5578cfc",
   "metadata": {
    "id": "4d76d4b1-d2dc-4713-9853-7c4da5578cfc"
   },
   "source": [
    "As can be seen this performs well enough in regards to surfacing documents that contain the search term (i.e. \"airlines\") however as noted this approach would not be feasible on larger datasets and also comes into issues when dealing with longer search terms. In other words once the query gets longer (e.g. \"airlines in the united states\") this will introduce to many complexities to really be handled via a simple term lookup because then you may need to start testing strategies that split up the query into individual terms and search against each word at a time which again leads to poor performance in terms of lookup speeds. Therefore in an attempt to try and solve for this we will perform keyword search against vectorized documents."
   ]
  },
  {
   "cell_type": "markdown",
   "id": "cebc509e-e8a5-45ee-9fcf-6f46cd692c07",
   "metadata": {
    "id": "cebc509e-e8a5-45ee-9fcf-6f46cd692c07"
   },
   "source": [
    "## Vectorized Search\n",
    "\n",
    "First we will start by creating an index class and a search class. While it isn't required to keep these seperate having them in seperate classes can help to customize things as needed. "
   ]
  },
  {
   "cell_type": "code",
   "execution_count": 36,
   "id": "1de72742-2d75-4742-beb1-fb3f1ef15d2d",
   "metadata": {
    "tags": []
   },
   "outputs": [],
   "source": [
    "class KeywordIndex:\n",
    "    \n",
    "    def __init__(self, transformer_type:str):\n",
    "        if transformer_type in ['count', 'tfidf']:\n",
    "            if transformer_type == 'count':\n",
    "                self.transformer = CountVectorizer()\n",
    "            elif transformer_type == 'tfidf':\n",
    "                self.transformer = TfidfVectorizer()\n",
    "        else:\n",
    "            raise ValueError(f\"Expected count or tfidf but got {transformer_type}\")\n",
    "        # Sparse matrix representations of the docs to be queried\n",
    "        self.index = None\n",
    "        # DataFrame containing keys and other info for the docs\n",
    "        self.lookup : pd.DataFrame = None\n",
    "        # Column that will be returned when searching the index. Defining this \n",
    "        # allows us to return something other then the docs such as the title or an id.\n",
    "        self.lookup_key : str = None\n",
    "\n",
    "    def build(self, docs:List[str], lookup:pd.DataFrame, key_col:str):\n",
    "        \"\"\"Build the KeywordIndex by transforming the docs given the specified transformer. \n",
    "        \"\"\"\n",
    "        st = time.time()\n",
    "        self.index = self.transformer.fit_transform(docs)\n",
    "        self.lookup = lookup\n",
    "        self.lookup_key = key_col \n",
    "        print(f\"Time to build index : {round(time.time()-st,4)} seconds\")\n",
    "        return\n",
    "    \n",
    "    def search(self, query:str, n:int=5):\n",
    "        \"\"\"Searches the KeywordIndex using cosine similarity and returns tops N\n",
    "        similar results. \n",
    "        \"\"\"\n",
    "        transformed_query = self.transformer.transform([query])\n",
    "        similarity_matrix = cosine_similarity(transformed_query, self.index)\n",
    "        self.lookup['tfidf_cos_sim'] = similarity_matrix[0]\n",
    "        self.lookup.sort_values(by='tfidf_cos_sim',ascending=False,inplace=True)\n",
    "        \n",
    "        return list(self.lookup[self.lookup_key].head(n)) \n",
    "    \n",
    "    "
   ]
  },
  {
   "cell_type": "markdown",
   "id": "4126810e-b365-4375-b602-29d50e69d531",
   "metadata": {
    "id": "4126810e-b365-4375-b602-29d50e69d531"
   },
   "source": [
    "### Count Vectorization"
   ]
  },
  {
   "cell_type": "code",
   "execution_count": 37,
   "id": "cb2db89a-1db0-445b-9130-d3007bbd279b",
   "metadata": {
    "id": "cb2db89a-1db0-445b-9130-d3007bbd279b"
   },
   "outputs": [
    {
     "name": "stdout",
     "output_type": "stream",
     "text": [
      "Time to build index : 5.4211 seconds\n"
     ]
    }
   ],
   "source": [
    "# Build the index using a count transformer\n",
    "index = KeywordIndex(transformer_type='count')\n",
    "index.build(docs=DOCS, lookup=data, key_col='uuid')\n",
    "\n"
   ]
  },
  {
   "cell_type": "code",
   "execution_count": 38,
   "id": "ef49a689-a059-4e9a-8673-7f7cc744839d",
   "metadata": {
    "tags": []
   },
   "outputs": [
    {
     "name": "stdout",
     "output_type": "stream",
     "text": [
      "0: Right Word, Wrong Basket: Keeping the Focus on Deplorable Language and Views\n",
      "1: My Encounter With Merle\n",
      "2: U.S. Tightens Screening Of Airport Workers After Gun Arrest\n",
      "3: 3 Recipes For Anyone Who Loves Vegetables\n",
      "4: The Way Out Of Trumpland: Electoral College And Clinton Watch Vote Recounts\n",
      "CPU times: user 428 ms, sys: 26.9 ms, total: 455 ms\n",
      "Wall time: 483 ms\n"
     ]
    }
   ],
   "source": [
    "%%time \n",
    "\n",
    "# search the index\n",
    "res = index.search(query='airlines')\n",
    "\n",
    "for cnt, u in enumerate(res):\n",
    "    print(f\"{cnt}: {UUID_2_TITLE[u]}\")"
   ]
  },
  {
   "cell_type": "markdown",
   "id": "595b10a6-015b-46a6-9886-befe87f7adf5",
   "metadata": {},
   "source": [
    "Now because we are using cosine_similarity and have vectorized our scoreing mechanism it allows us to pass in longer queries and not worry as much about compute time as compared the naive approach. "
   ]
  },
  {
   "cell_type": "code",
   "execution_count": 39,
   "id": "e86caf0c-a9fa-433e-bda1-36888f5c8dc8",
   "metadata": {
    "id": "e86caf0c-a9fa-433e-bda1-36888f5c8dc8"
   },
   "outputs": [
    {
     "name": "stdout",
     "output_type": "stream",
     "text": [
      "0: Women in Business Q&A: Shelley Zalis, Founder of The Girls' Lounge\n",
      "1: Hikers’ Families Say Deaths Motivated By ‘Compassion’\n",
      "2: Congress Members -- Shameless\n",
      "3: Climate Change Poses A Big Risk To Your Retirement Savings\n",
      "4: Sarah Silverman To Trump: 'Show Us Your F***king Taxes, You Emotional Child'\n",
      "CPU times: user 427 ms, sys: 26.6 ms, total: 453 ms\n",
      "Wall time: 499 ms\n"
     ]
    }
   ],
   "source": [
    "%%time \n",
    "\n",
    "# search the index\n",
    "res = index.search(query='united states government')\n",
    "\n",
    "for cnt, u in enumerate(res):\n",
    "    print(f\"{cnt}: {UUID_2_TITLE[u]}\")"
   ]
  },
  {
   "cell_type": "markdown",
   "id": "54a1c555-d310-430f-86e0-6a9c16f31d6d",
   "metadata": {},
   "source": [
    "As we can see from the results above we are getting decent results however a downfall of keyword search is that it can fail to capture actual meaning or what a document is about. In other words although a document may contain the term it may not be about the term. For example given the query Washington D.C. a keyword based search may surface a document about the US government just because it makes mention of the US government being based in Washington D.C. without any other information about Washington D.C."
   ]
  },
  {
   "cell_type": "markdown",
   "id": "112dbdf7-91cb-4bd0-bdc8-40a3033c5b07",
   "metadata": {
    "id": "112dbdf7-91cb-4bd0-bdc8-40a3033c5b07"
   },
   "source": [
    "### tfidf Vectorization"
   ]
  },
  {
   "cell_type": "markdown",
   "id": "99577000-b35a-45dd-9e51-f8a7b883e287",
   "metadata": {},
   "source": [
    "A variation on keyword search that attempts to "
   ]
  },
  {
   "cell_type": "code",
   "execution_count": 40,
   "id": "211bf669-6a2f-40fa-bf79-331992efcaf3",
   "metadata": {
    "id": "211bf669-6a2f-40fa-bf79-331992efcaf3"
   },
   "outputs": [
    {
     "name": "stdout",
     "output_type": "stream",
     "text": [
      "Time to build index : 5.596 seconds\n"
     ]
    }
   ],
   "source": [
    "# Build the index using a count transformer\n",
    "index = KeywordIndex(transformer_type='tfidf')\n",
    "index.build(docs=DOCS, lookup=data, key_col='uuid')\n"
   ]
  },
  {
   "cell_type": "code",
   "execution_count": 41,
   "id": "a9db8595-0074-4cb9-83c7-522fa84ca852",
   "metadata": {
    "tags": []
   },
   "outputs": [
    {
     "name": "stdout",
     "output_type": "stream",
     "text": [
      "0: A Harvard Professor On The Profound Life Lessons Of 'Star Wars'\n",
      "1: Vet Clinic Pays Tribute To Late Pup In Sweetest Way\n",
      "2: On Gawker’s Problem With Women\n",
      "3: HuffPost Rise: What You Need To Know On April 15\n",
      "4: Sherry Xie, Student, And Her DIY No-Poo Shampoo\n",
      "CPU times: user 287 ms, sys: 27 ms, total: 314 ms\n",
      "Wall time: 394 ms\n"
     ]
    }
   ],
   "source": [
    "%%time \n",
    "\n",
    "# search the index\n",
    "res = index.search(query='airlines')\n",
    "\n",
    "for cnt, u in enumerate(res):\n",
    "    print(f\"{cnt}: {UUID_2_TITLE[u]}\")"
   ]
  },
  {
   "cell_type": "code",
   "execution_count": null,
   "id": "7a3eebda-6c43-441c-a67e-683b46e0c369",
   "metadata": {},
   "outputs": [],
   "source": []
  }
 ],
 "metadata": {
  "colab": {
   "provenance": []
  },
  "kernelspec": {
   "display_name": "search-series:Python",
   "language": "python",
   "name": "conda-env-search-series-py"
  },
  "language_info": {
   "codemirror_mode": {
    "name": "ipython",
    "version": 3
   },
   "file_extension": ".py",
   "mimetype": "text/x-python",
   "name": "python",
   "nbconvert_exporter": "python",
   "pygments_lexer": "ipython3",
   "version": "3.9.18"
  }
 },
 "nbformat": 4,
 "nbformat_minor": 5
}
